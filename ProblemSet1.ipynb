{
 "cells": [
  {
   "cell_type": "code",
   "execution_count": 2,
   "id": "117cfc2d-0d11-42db-b81e-de45d421e5d9",
   "metadata": {},
   "outputs": [],
   "source": [
    "#Problem set 1\n",
    "#Jeremy Koertzen\n",
    "import numpy as np\n",
    "import matplotlib.pyplot as plt"
   ]
  },
  {
   "cell_type": "code",
   "execution_count": 4,
   "id": "4f7aec82",
   "metadata": {},
   "outputs": [],
   "source": [
    "#Functions:\n",
    "\n",
    "def zeta(n,N,T):\n",
    "    z = 0\n",
    "    E = 1\n",
    "    B = 1/T\n",
    "    for i in range(N):\n",
    "        z += np.exp(-1*B*E)\n",
    "    return z\n"
   ]
  },
  {
   "cell_type": "markdown",
   "id": "4a3bb729",
   "metadata": {},
   "source": [
    "Exercise 1.1:\n",
    "\n",
    "Taking the sum of Pn yields the same numerator as denominator, so the sum of the probabilities is one. This makes sense because the sum of the probabilities of all events must add up to one. "
   ]
  },
  {
   "cell_type": "markdown",
   "id": "904d3a15",
   "metadata": {},
   "source": [
    "Exercise 1.2:\n",
    "\n",
    "If B goes to zero, then zeta is the sum of 1 N times, which is N. This shows that at high temperatures the probability of each energy state is the same because Pn goes to 1/N. "
   ]
  },
  {
   "cell_type": "markdown",
   "id": "e8f348bf",
   "metadata": {},
   "source": [
    "Exercise 1.3:\n",
    "\n",
    "$z = \\sum_{n=0}^{N-1}e^{-\\beta(E_n+\\epsilon)}$\n",
    "\n",
    "Therefore,\n",
    "\n",
    "$p_n = \\frac{e^{-\\beta(E_n+\\epsilon)}}{\\sum_{n=0}^{N-1}e^{-\\beta(E_n+\\epsilon)}}$\n",
    "\n",
    "$= \\frac{e^{-\\beta E_n}e^{-\\beta \\epsilon}}{e^{-\\beta \\epsilon}\\sum_{n=0}^{N-1}e^{-\\beta E_n}}$\n",
    "\n",
    "$= p_n$"
   ]
  },
  {
   "cell_type": "markdown",
   "id": "8a11a79b",
   "metadata": {},
   "source": [
    "Exercise 1.4:\n",
    "\n",
    "If T goes to zero, then \n"
   ]
  },
  {
   "cell_type": "code",
   "execution_count": null,
   "id": "a082ad22",
   "metadata": {},
   "outputs": [],
   "source": []
  }
 ],
 "metadata": {
  "kernelspec": {
   "display_name": "Python 3 (ipykernel)",
   "language": "python",
   "name": "python3"
  },
  "language_info": {
   "codemirror_mode": {
    "name": "ipython",
    "version": 3
   },
   "file_extension": ".py",
   "mimetype": "text/x-python",
   "name": "python",
   "nbconvert_exporter": "python",
   "pygments_lexer": "ipython3",
   "version": "3.12.4"
  }
 },
 "nbformat": 4,
 "nbformat_minor": 5
}
